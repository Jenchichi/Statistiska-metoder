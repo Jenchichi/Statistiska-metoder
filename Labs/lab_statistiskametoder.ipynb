{
 "cells": [
  {
   "cell_type": "code",
   "execution_count": 68,
   "metadata": {},
   "outputs": [],
   "source": [
    "import numpy as np\n",
    "from scipy import stats\n",
    "import pandas as pd \n",
    "from Lab_statistiskametoder import LinearRegression"
   ]
  },
  {
   "cell_type": "code",
   "execution_count": 69,
   "metadata": {},
   "outputs": [],
   "source": [
    "df = pd.read_csv(\"C:\\\\Programmering\\\\IT_hogskolan\\\\Statistiska-metoder\\\\Data\\\\Small-diameter-flow.csv\")\n"
   ]
  },
  {
   "cell_type": "code",
   "execution_count": 70,
   "metadata": {},
   "outputs": [
    {
     "data": {
      "text/html": [
       "<div>\n",
       "<style scoped>\n",
       "    .dataframe tbody tr th:only-of-type {\n",
       "        vertical-align: middle;\n",
       "    }\n",
       "\n",
       "    .dataframe tbody tr th {\n",
       "        vertical-align: top;\n",
       "    }\n",
       "\n",
       "    .dataframe thead th {\n",
       "        text-align: right;\n",
       "    }\n",
       "</style>\n",
       "<table border=\"1\" class=\"dataframe\">\n",
       "  <thead>\n",
       "    <tr style=\"text-align: right;\">\n",
       "      <th></th>\n",
       "      <th>Unnamed: 0</th>\n",
       "      <th>Flow</th>\n",
       "      <th>Kinematic</th>\n",
       "      <th>Geometric</th>\n",
       "      <th>Inertial</th>\n",
       "      <th>Observer</th>\n",
       "    </tr>\n",
       "  </thead>\n",
       "  <tbody>\n",
       "    <tr>\n",
       "      <th>0</th>\n",
       "      <td>0</td>\n",
       "      <td>-17.047687</td>\n",
       "      <td>-0.584344</td>\n",
       "      <td>-6.896327</td>\n",
       "      <td>-14.323560</td>\n",
       "      <td>0.0</td>\n",
       "    </tr>\n",
       "    <tr>\n",
       "      <th>1</th>\n",
       "      <td>1</td>\n",
       "      <td>-17.043179</td>\n",
       "      <td>-0.584344</td>\n",
       "      <td>-6.896327</td>\n",
       "      <td>-14.323560</td>\n",
       "      <td>0.0</td>\n",
       "    </tr>\n",
       "    <tr>\n",
       "      <th>2</th>\n",
       "      <td>2</td>\n",
       "      <td>-17.043179</td>\n",
       "      <td>-0.584344</td>\n",
       "      <td>-6.896327</td>\n",
       "      <td>-14.323560</td>\n",
       "      <td>0.0</td>\n",
       "    </tr>\n",
       "    <tr>\n",
       "      <th>3</th>\n",
       "      <td>3</td>\n",
       "      <td>-11.182193</td>\n",
       "      <td>1.242506</td>\n",
       "      <td>-5.069476</td>\n",
       "      <td>-11.583284</td>\n",
       "      <td>0.0</td>\n",
       "    </tr>\n",
       "    <tr>\n",
       "      <th>4</th>\n",
       "      <td>4</td>\n",
       "      <td>-11.184430</td>\n",
       "      <td>1.242506</td>\n",
       "      <td>-5.069476</td>\n",
       "      <td>-11.583284</td>\n",
       "      <td>0.0</td>\n",
       "    </tr>\n",
       "  </tbody>\n",
       "</table>\n",
       "</div>"
      ],
      "text/plain": [
       "   Unnamed: 0       Flow  Kinematic  Geometric   Inertial  Observer\n",
       "0           0 -17.047687  -0.584344  -6.896327 -14.323560       0.0\n",
       "1           1 -17.043179  -0.584344  -6.896327 -14.323560       0.0\n",
       "2           2 -17.043179  -0.584344  -6.896327 -14.323560       0.0\n",
       "3           3 -11.182193   1.242506  -5.069476 -11.583284       0.0\n",
       "4           4 -11.184430   1.242506  -5.069476 -11.583284       0.0"
      ]
     },
     "execution_count": 70,
     "metadata": {},
     "output_type": "execute_result"
    }
   ],
   "source": [
    "df.head()"
   ]
  },
  {
   "cell_type": "code",
   "execution_count": 71,
   "metadata": {},
   "outputs": [],
   "source": [
    "y = df[\"Flow\"]\n",
    "x = np.column_stack([np.ones(y.shape[0]),df[\"Kinematic\"], df[\"Geometric\"], df[\"Inertial\"], df[\"Observer\"]])\n"
   ]
  },
  {
   "cell_type": "code",
   "execution_count": 72,
   "metadata": {},
   "outputs": [
    {
     "data": {
      "text/plain": [
       "Unnamed: 0    0.140553\n",
       "Flow          1.000000\n",
       "Kinematic     0.863403\n",
       "Geometric     0.995794\n",
       "Inertial      0.903310\n",
       "Observer      0.181490\n",
       "Name: Flow, dtype: float64"
      ]
     },
     "execution_count": 72,
     "metadata": {},
     "output_type": "execute_result"
    }
   ],
   "source": [
    "df.corr()[\"Flow\"]"
   ]
  },
  {
   "cell_type": "code",
   "execution_count": 73,
   "metadata": {},
   "outputs": [],
   "source": [
    "data_model = LinearRegression(x, y)"
   ]
  },
  {
   "cell_type": "code",
   "execution_count": 74,
   "metadata": {},
   "outputs": [
    {
     "name": "stdout",
     "output_type": "stream",
     "text": [
      "Antal Observationer: 198\n",
      "Variansen: 0.006272292538356659\n",
      "Standardavvikelse: 0.07919780639864124\n",
      "Signifikansen av regressionen: 1.7265182348381655e-139\n",
      "R^2-värde: 0.9971526073277638\n",
      "[-2.58376909  0.87000771  3.60315069 -0.75188958  0.0168805 ]\n",
      "4\n"
     ]
    }
   ],
   "source": [
    "print(f\"Antal Observationer: {data_model.n}\")\n",
    "print(f\"Variansen: {data_model.variance()}\")\n",
    "print(f\"Standardavvikelse: {data_model.standard_deviation()}\")\n",
    "print(f\"Signifikansen av regressionen: {data_model.significance()}\")\n",
    "print(f\"R^2-värde: {data_model.r_squared()}\")\n",
    "print(data_model.b)\n",
    "print(data_model.d)"
   ]
  }
 ],
 "metadata": {
  "kernelspec": {
   "display_name": "Python 3",
   "language": "python",
   "name": "python3"
  },
  "language_info": {
   "codemirror_mode": {
    "name": "ipython",
    "version": 3
   },
   "file_extension": ".py",
   "mimetype": "text/x-python",
   "name": "python",
   "nbconvert_exporter": "python",
   "pygments_lexer": "ipython3",
   "version": "3.12.6"
  }
 },
 "nbformat": 4,
 "nbformat_minor": 2
}
